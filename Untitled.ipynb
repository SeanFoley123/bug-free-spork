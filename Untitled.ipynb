{
 "cells": [
  {
   "cell_type": "markdown",
   "metadata": {},
   "source": [
    "# Symbiosis\n",
    "\n",
    "**Sean Foley, Kaitlyn Keil, Apurva Raman**\n",
    "\n",
    "**Software Design, Spring 2016**\n",
    "\n",
    "Symbiosis is a game in which you play as a blobby orphan baby trying to find a family to accept it. Using powers granted to you by a mushroom symbiote, traverse levels and make decisions to meet your goal.\n",
    "\n",
    "## Dependencies\n",
    "This project uses the math, sys, and pygame libraries. Make sure these are installed before playing the game.\n",
    "\n",
    "## Modules\n",
    "To play, run the file game_base2.py. This imports the modules Spores, LivingThings, Terrain, and Room. These contain the classes needed to run the game.\n",
    "- Spores contains the classes for the thrown spores, such as decomposition and ledge-creation.\n",
    "- Terrain contains the classes for the platforms and surfaces and obstacles.\n",
    "- LivingThings contains the classes for the player and creatures that move.\n",
    "- Room contains and constructs the levels, and imports the above modules.\n",
    "\n",
    "## Keybindings\n",
    "Use the arrow keys to move. Spacebar throws spores. Up arrow key allows you to jump. Don't hit the enemy, try to survive!"
   ]
  },
  {
   "cell_type": "code",
   "execution_count": null,
   "metadata": {
    "collapsed": true
   },
   "outputs": [],
   "source": []
  }
 ],
 "metadata": {
  "kernelspec": {
   "display_name": "Python 2",
   "language": "python",
   "name": "python2"
  },
  "language_info": {
   "codemirror_mode": {
    "name": "ipython",
    "version": 2
   },
   "file_extension": ".py",
   "mimetype": "text/x-python",
   "name": "python",
   "nbconvert_exporter": "python",
   "pygments_lexer": "ipython2",
   "version": "2.7.6"
  }
 },
 "nbformat": 4,
 "nbformat_minor": 0
}
